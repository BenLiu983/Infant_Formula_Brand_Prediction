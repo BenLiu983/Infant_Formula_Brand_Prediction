{
 "cells": [
  {
   "cell_type": "code",
   "execution_count": 1,
   "id": "fc467f31",
   "metadata": {},
   "outputs": [],
   "source": [
    "import pandas as pd\n",
    "import numpy as np\n",
    "import seaborn as sns \n",
    "import matplotlib.pyplot as plt\n",
    "import pickle\n",
    "\n",
    "from sklearn.neighbors import KNeighborsClassifier\n",
    "from sklearn.model_selection import train_test_split\n",
    "from sklearn.linear_model import LogisticRegression\n",
    "from sklearn import tree\n",
    "from sklearn import metrics\n",
    "from sklearn.metrics import roc_curve, roc_auc_score\n",
    "from sklearn.metrics import classification_report, confusion_matrix\n",
    "from sklearn import svm\n",
    "from sklearn.preprocessing import MinMaxScaler\n",
    "from sklearn.model_selection import cross_val_score\n",
    "from sklearn.model_selection import cross_val_predict\n",
    "from sklearn.metrics import mean_squared_error, r2_score\n",
    "from sklearn.metrics import classification_report, confusion_matrix\n",
    "from sklearn.metrics import accuracy_score, recall_score\n",
    "from sklearn.tree import DecisionTreeClassifier\n",
    "from sklearn.ensemble import RandomForestClassifier\n",
    "from sklearn.utils import resample\n",
    "from sklearn.naive_bayes import GaussianNB\n",
    "from sklearn.svm import SVC\n",
    "from sklearn.ensemble import StackingClassifier\n",
    "from sklearn.model_selection import RandomizedSearchCV\n",
    "from sklearn.model_selection import GridSearchCV\n",
    "\n",
    "import warnings\n",
    "warnings.filterwarnings(\"ignore\")\n",
    "sns.set(font_scale=1.2)\n",
    "sns.set_style(\"whitegrid\")"
   ]
  },
  {
   "cell_type": "markdown",
   "id": "b5c61fa7",
   "metadata": {},
   "source": [
    "# 1. MinMax scaling & Train-Test-Split "
   ]
  },
  {
   "cell_type": "code",
   "execution_count": 2,
   "id": "aa136f80",
   "metadata": {},
   "outputs": [
    {
     "data": {
      "text/html": [
       "<div>\n",
       "<style scoped>\n",
       "    .dataframe tbody tr th:only-of-type {\n",
       "        vertical-align: middle;\n",
       "    }\n",
       "\n",
       "    .dataframe tbody tr th {\n",
       "        vertical-align: top;\n",
       "    }\n",
       "\n",
       "    .dataframe thead th {\n",
       "        text-align: right;\n",
       "    }\n",
       "</style>\n",
       "<table border=\"1\" class=\"dataframe\">\n",
       "  <thead>\n",
       "    <tr style=\"text-align: right;\">\n",
       "      <th></th>\n",
       "      <th>cur_brand</th>\n",
       "      <th>first_buy_brand</th>\n",
       "      <th>babyage</th>\n",
       "      <th>ZONE</th>\n",
       "      <th>enroll_type2</th>\n",
       "      <th>enroll_age</th>\n",
       "      <th>open_rate0</th>\n",
       "      <th>click_rate0</th>\n",
       "      <th>redem_rate0</th>\n",
       "      <th>breastfed</th>\n",
       "      <th>breastfed_and_formula</th>\n",
       "      <th>formula</th>\n",
       "      <th>neither</th>\n",
       "    </tr>\n",
       "  </thead>\n",
       "  <tbody>\n",
       "    <tr>\n",
       "      <th>0</th>\n",
       "      <td>0</td>\n",
       "      <td>0</td>\n",
       "      <td>120</td>\n",
       "      <td>1</td>\n",
       "      <td>1</td>\n",
       "      <td>-247</td>\n",
       "      <td>0.000000</td>\n",
       "      <td>0.000000</td>\n",
       "      <td>0.000000</td>\n",
       "      <td>1</td>\n",
       "      <td>0</td>\n",
       "      <td>0</td>\n",
       "      <td>0</td>\n",
       "    </tr>\n",
       "    <tr>\n",
       "      <th>1</th>\n",
       "      <td>1</td>\n",
       "      <td>1</td>\n",
       "      <td>150</td>\n",
       "      <td>1</td>\n",
       "      <td>1</td>\n",
       "      <td>-169</td>\n",
       "      <td>0.052632</td>\n",
       "      <td>0.000000</td>\n",
       "      <td>0.600000</td>\n",
       "      <td>0</td>\n",
       "      <td>0</td>\n",
       "      <td>1</td>\n",
       "      <td>0</td>\n",
       "    </tr>\n",
       "    <tr>\n",
       "      <th>2</th>\n",
       "      <td>0</td>\n",
       "      <td>0</td>\n",
       "      <td>330</td>\n",
       "      <td>1</td>\n",
       "      <td>1</td>\n",
       "      <td>-64</td>\n",
       "      <td>0.714286</td>\n",
       "      <td>0.285714</td>\n",
       "      <td>0.000000</td>\n",
       "      <td>0</td>\n",
       "      <td>1</td>\n",
       "      <td>0</td>\n",
       "      <td>0</td>\n",
       "    </tr>\n",
       "    <tr>\n",
       "      <th>3</th>\n",
       "      <td>1</td>\n",
       "      <td>1</td>\n",
       "      <td>60</td>\n",
       "      <td>1</td>\n",
       "      <td>0</td>\n",
       "      <td>-31</td>\n",
       "      <td>0.911765</td>\n",
       "      <td>0.205882</td>\n",
       "      <td>0.666667</td>\n",
       "      <td>0</td>\n",
       "      <td>1</td>\n",
       "      <td>0</td>\n",
       "      <td>0</td>\n",
       "    </tr>\n",
       "    <tr>\n",
       "      <th>4</th>\n",
       "      <td>1</td>\n",
       "      <td>1</td>\n",
       "      <td>30</td>\n",
       "      <td>1</td>\n",
       "      <td>1</td>\n",
       "      <td>9</td>\n",
       "      <td>0.250000</td>\n",
       "      <td>0.071429</td>\n",
       "      <td>0.250000</td>\n",
       "      <td>1</td>\n",
       "      <td>0</td>\n",
       "      <td>0</td>\n",
       "      <td>0</td>\n",
       "    </tr>\n",
       "    <tr>\n",
       "      <th>...</th>\n",
       "      <td>...</td>\n",
       "      <td>...</td>\n",
       "      <td>...</td>\n",
       "      <td>...</td>\n",
       "      <td>...</td>\n",
       "      <td>...</td>\n",
       "      <td>...</td>\n",
       "      <td>...</td>\n",
       "      <td>...</td>\n",
       "      <td>...</td>\n",
       "      <td>...</td>\n",
       "      <td>...</td>\n",
       "      <td>...</td>\n",
       "    </tr>\n",
       "    <tr>\n",
       "      <th>12888</th>\n",
       "      <td>1</td>\n",
       "      <td>0</td>\n",
       "      <td>180</td>\n",
       "      <td>0</td>\n",
       "      <td>1</td>\n",
       "      <td>-39</td>\n",
       "      <td>0.289474</td>\n",
       "      <td>0.105263</td>\n",
       "      <td>0.000000</td>\n",
       "      <td>0</td>\n",
       "      <td>1</td>\n",
       "      <td>0</td>\n",
       "      <td>0</td>\n",
       "    </tr>\n",
       "    <tr>\n",
       "      <th>12889</th>\n",
       "      <td>1</td>\n",
       "      <td>1</td>\n",
       "      <td>0</td>\n",
       "      <td>1</td>\n",
       "      <td>0</td>\n",
       "      <td>-241</td>\n",
       "      <td>0.782609</td>\n",
       "      <td>0.043478</td>\n",
       "      <td>0.500000</td>\n",
       "      <td>0</td>\n",
       "      <td>0</td>\n",
       "      <td>1</td>\n",
       "      <td>0</td>\n",
       "    </tr>\n",
       "    <tr>\n",
       "      <th>12890</th>\n",
       "      <td>1</td>\n",
       "      <td>0</td>\n",
       "      <td>30</td>\n",
       "      <td>1</td>\n",
       "      <td>1</td>\n",
       "      <td>-128</td>\n",
       "      <td>0.271186</td>\n",
       "      <td>0.050847</td>\n",
       "      <td>0.500000</td>\n",
       "      <td>0</td>\n",
       "      <td>1</td>\n",
       "      <td>0</td>\n",
       "      <td>0</td>\n",
       "    </tr>\n",
       "    <tr>\n",
       "      <th>12891</th>\n",
       "      <td>1</td>\n",
       "      <td>1</td>\n",
       "      <td>30</td>\n",
       "      <td>1</td>\n",
       "      <td>1</td>\n",
       "      <td>-37</td>\n",
       "      <td>0.210526</td>\n",
       "      <td>0.078947</td>\n",
       "      <td>0.000000</td>\n",
       "      <td>0</td>\n",
       "      <td>1</td>\n",
       "      <td>0</td>\n",
       "      <td>0</td>\n",
       "    </tr>\n",
       "    <tr>\n",
       "      <th>12892</th>\n",
       "      <td>1</td>\n",
       "      <td>1</td>\n",
       "      <td>90</td>\n",
       "      <td>1</td>\n",
       "      <td>0</td>\n",
       "      <td>-213</td>\n",
       "      <td>0.441176</td>\n",
       "      <td>0.058824</td>\n",
       "      <td>0.500000</td>\n",
       "      <td>0</td>\n",
       "      <td>1</td>\n",
       "      <td>0</td>\n",
       "      <td>0</td>\n",
       "    </tr>\n",
       "  </tbody>\n",
       "</table>\n",
       "<p>12893 rows × 13 columns</p>\n",
       "</div>"
      ],
      "text/plain": [
       "       cur_brand  first_buy_brand  babyage  ZONE  enroll_type2  enroll_age  \\\n",
       "0              0                0      120     1             1        -247   \n",
       "1              1                1      150     1             1        -169   \n",
       "2              0                0      330     1             1         -64   \n",
       "3              1                1       60     1             0         -31   \n",
       "4              1                1       30     1             1           9   \n",
       "...          ...              ...      ...   ...           ...         ...   \n",
       "12888          1                0      180     0             1         -39   \n",
       "12889          1                1        0     1             0        -241   \n",
       "12890          1                0       30     1             1        -128   \n",
       "12891          1                1       30     1             1         -37   \n",
       "12892          1                1       90     1             0        -213   \n",
       "\n",
       "       open_rate0  click_rate0  redem_rate0  breastfed  breastfed_and_formula  \\\n",
       "0        0.000000     0.000000     0.000000          1                      0   \n",
       "1        0.052632     0.000000     0.600000          0                      0   \n",
       "2        0.714286     0.285714     0.000000          0                      1   \n",
       "3        0.911765     0.205882     0.666667          0                      1   \n",
       "4        0.250000     0.071429     0.250000          1                      0   \n",
       "...           ...          ...          ...        ...                    ...   \n",
       "12888    0.289474     0.105263     0.000000          0                      1   \n",
       "12889    0.782609     0.043478     0.500000          0                      0   \n",
       "12890    0.271186     0.050847     0.500000          0                      1   \n",
       "12891    0.210526     0.078947     0.000000          0                      1   \n",
       "12892    0.441176     0.058824     0.500000          0                      1   \n",
       "\n",
       "       formula  neither  \n",
       "0            0        0  \n",
       "1            1        0  \n",
       "2            0        0  \n",
       "3            0        0  \n",
       "4            0        0  \n",
       "...        ...      ...  \n",
       "12888        0        0  \n",
       "12889        1        0  \n",
       "12890        0        0  \n",
       "12891        0        0  \n",
       "12892        0        0  \n",
       "\n",
       "[12893 rows x 13 columns]"
      ]
     },
     "execution_count": 2,
     "metadata": {},
     "output_type": "execute_result"
    }
   ],
   "source": [
    "# load the dataset\n",
    "df = pd.read_csv('current_infant_brand_clean_v2.csv')\n",
    "df"
   ]
  },
  {
   "cell_type": "code",
   "execution_count": 3,
   "id": "eb6cb228",
   "metadata": {
    "scrolled": true
   },
   "outputs": [
    {
     "data": {
      "text/html": [
       "<div>\n",
       "<style scoped>\n",
       "    .dataframe tbody tr th:only-of-type {\n",
       "        vertical-align: middle;\n",
       "    }\n",
       "\n",
       "    .dataframe tbody tr th {\n",
       "        vertical-align: top;\n",
       "    }\n",
       "\n",
       "    .dataframe thead th {\n",
       "        text-align: right;\n",
       "    }\n",
       "</style>\n",
       "<table border=\"1\" class=\"dataframe\">\n",
       "  <thead>\n",
       "    <tr style=\"text-align: right;\">\n",
       "      <th></th>\n",
       "      <th>cur_brand</th>\n",
       "      <th>first_buy_brand</th>\n",
       "      <th>babyage</th>\n",
       "      <th>ZONE</th>\n",
       "      <th>enroll_type2</th>\n",
       "      <th>enroll_age</th>\n",
       "      <th>open_rate0</th>\n",
       "      <th>click_rate0</th>\n",
       "      <th>redem_rate0</th>\n",
       "      <th>breastfed</th>\n",
       "      <th>breastfed_and_formula</th>\n",
       "      <th>formula</th>\n",
       "      <th>neither</th>\n",
       "    </tr>\n",
       "  </thead>\n",
       "  <tbody>\n",
       "    <tr>\n",
       "      <th>0</th>\n",
       "      <td>0.0</td>\n",
       "      <td>0.0</td>\n",
       "      <td>0.333333</td>\n",
       "      <td>1.0</td>\n",
       "      <td>1.0</td>\n",
       "      <td>0.487926</td>\n",
       "      <td>0.000000</td>\n",
       "      <td>0.000000</td>\n",
       "      <td>0.000000</td>\n",
       "      <td>1.0</td>\n",
       "      <td>0.0</td>\n",
       "      <td>0.0</td>\n",
       "      <td>0.0</td>\n",
       "    </tr>\n",
       "    <tr>\n",
       "      <th>1</th>\n",
       "      <td>1.0</td>\n",
       "      <td>1.0</td>\n",
       "      <td>0.416667</td>\n",
       "      <td>1.0</td>\n",
       "      <td>1.0</td>\n",
       "      <td>0.496372</td>\n",
       "      <td>0.052632</td>\n",
       "      <td>0.000000</td>\n",
       "      <td>0.600000</td>\n",
       "      <td>0.0</td>\n",
       "      <td>0.0</td>\n",
       "      <td>1.0</td>\n",
       "      <td>0.0</td>\n",
       "    </tr>\n",
       "    <tr>\n",
       "      <th>2</th>\n",
       "      <td>0.0</td>\n",
       "      <td>0.0</td>\n",
       "      <td>0.916667</td>\n",
       "      <td>1.0</td>\n",
       "      <td>1.0</td>\n",
       "      <td>0.507742</td>\n",
       "      <td>0.714286</td>\n",
       "      <td>0.285714</td>\n",
       "      <td>0.000000</td>\n",
       "      <td>0.0</td>\n",
       "      <td>1.0</td>\n",
       "      <td>0.0</td>\n",
       "      <td>0.0</td>\n",
       "    </tr>\n",
       "    <tr>\n",
       "      <th>3</th>\n",
       "      <td>1.0</td>\n",
       "      <td>1.0</td>\n",
       "      <td>0.166667</td>\n",
       "      <td>1.0</td>\n",
       "      <td>0.0</td>\n",
       "      <td>0.511316</td>\n",
       "      <td>0.911765</td>\n",
       "      <td>0.205882</td>\n",
       "      <td>0.666667</td>\n",
       "      <td>0.0</td>\n",
       "      <td>1.0</td>\n",
       "      <td>0.0</td>\n",
       "      <td>0.0</td>\n",
       "    </tr>\n",
       "    <tr>\n",
       "      <th>4</th>\n",
       "      <td>1.0</td>\n",
       "      <td>1.0</td>\n",
       "      <td>0.083333</td>\n",
       "      <td>1.0</td>\n",
       "      <td>1.0</td>\n",
       "      <td>0.515647</td>\n",
       "      <td>0.250000</td>\n",
       "      <td>0.071429</td>\n",
       "      <td>0.250000</td>\n",
       "      <td>1.0</td>\n",
       "      <td>0.0</td>\n",
       "      <td>0.0</td>\n",
       "      <td>0.0</td>\n",
       "    </tr>\n",
       "    <tr>\n",
       "      <th>...</th>\n",
       "      <td>...</td>\n",
       "      <td>...</td>\n",
       "      <td>...</td>\n",
       "      <td>...</td>\n",
       "      <td>...</td>\n",
       "      <td>...</td>\n",
       "      <td>...</td>\n",
       "      <td>...</td>\n",
       "      <td>...</td>\n",
       "      <td>...</td>\n",
       "      <td>...</td>\n",
       "      <td>...</td>\n",
       "      <td>...</td>\n",
       "    </tr>\n",
       "    <tr>\n",
       "      <th>12888</th>\n",
       "      <td>1.0</td>\n",
       "      <td>0.0</td>\n",
       "      <td>0.500000</td>\n",
       "      <td>0.0</td>\n",
       "      <td>1.0</td>\n",
       "      <td>0.510449</td>\n",
       "      <td>0.289474</td>\n",
       "      <td>0.105263</td>\n",
       "      <td>0.000000</td>\n",
       "      <td>0.0</td>\n",
       "      <td>1.0</td>\n",
       "      <td>0.0</td>\n",
       "      <td>0.0</td>\n",
       "    </tr>\n",
       "    <tr>\n",
       "      <th>12889</th>\n",
       "      <td>1.0</td>\n",
       "      <td>1.0</td>\n",
       "      <td>0.000000</td>\n",
       "      <td>1.0</td>\n",
       "      <td>0.0</td>\n",
       "      <td>0.488576</td>\n",
       "      <td>0.782609</td>\n",
       "      <td>0.043478</td>\n",
       "      <td>0.500000</td>\n",
       "      <td>0.0</td>\n",
       "      <td>0.0</td>\n",
       "      <td>1.0</td>\n",
       "      <td>0.0</td>\n",
       "    </tr>\n",
       "    <tr>\n",
       "      <th>12890</th>\n",
       "      <td>1.0</td>\n",
       "      <td>0.0</td>\n",
       "      <td>0.083333</td>\n",
       "      <td>1.0</td>\n",
       "      <td>1.0</td>\n",
       "      <td>0.500812</td>\n",
       "      <td>0.271186</td>\n",
       "      <td>0.050847</td>\n",
       "      <td>0.500000</td>\n",
       "      <td>0.0</td>\n",
       "      <td>1.0</td>\n",
       "      <td>0.0</td>\n",
       "      <td>0.0</td>\n",
       "    </tr>\n",
       "    <tr>\n",
       "      <th>12891</th>\n",
       "      <td>1.0</td>\n",
       "      <td>1.0</td>\n",
       "      <td>0.083333</td>\n",
       "      <td>1.0</td>\n",
       "      <td>1.0</td>\n",
       "      <td>0.510666</td>\n",
       "      <td>0.210526</td>\n",
       "      <td>0.078947</td>\n",
       "      <td>0.000000</td>\n",
       "      <td>0.0</td>\n",
       "      <td>1.0</td>\n",
       "      <td>0.0</td>\n",
       "      <td>0.0</td>\n",
       "    </tr>\n",
       "    <tr>\n",
       "      <th>12892</th>\n",
       "      <td>1.0</td>\n",
       "      <td>1.0</td>\n",
       "      <td>0.250000</td>\n",
       "      <td>1.0</td>\n",
       "      <td>0.0</td>\n",
       "      <td>0.491608</td>\n",
       "      <td>0.441176</td>\n",
       "      <td>0.058824</td>\n",
       "      <td>0.500000</td>\n",
       "      <td>0.0</td>\n",
       "      <td>1.0</td>\n",
       "      <td>0.0</td>\n",
       "      <td>0.0</td>\n",
       "    </tr>\n",
       "  </tbody>\n",
       "</table>\n",
       "<p>12893 rows × 13 columns</p>\n",
       "</div>"
      ],
      "text/plain": [
       "       cur_brand  first_buy_brand   babyage  ZONE  enroll_type2  enroll_age  \\\n",
       "0            0.0              0.0  0.333333   1.0           1.0    0.487926   \n",
       "1            1.0              1.0  0.416667   1.0           1.0    0.496372   \n",
       "2            0.0              0.0  0.916667   1.0           1.0    0.507742   \n",
       "3            1.0              1.0  0.166667   1.0           0.0    0.511316   \n",
       "4            1.0              1.0  0.083333   1.0           1.0    0.515647   \n",
       "...          ...              ...       ...   ...           ...         ...   \n",
       "12888        1.0              0.0  0.500000   0.0           1.0    0.510449   \n",
       "12889        1.0              1.0  0.000000   1.0           0.0    0.488576   \n",
       "12890        1.0              0.0  0.083333   1.0           1.0    0.500812   \n",
       "12891        1.0              1.0  0.083333   1.0           1.0    0.510666   \n",
       "12892        1.0              1.0  0.250000   1.0           0.0    0.491608   \n",
       "\n",
       "       open_rate0  click_rate0  redem_rate0  breastfed  breastfed_and_formula  \\\n",
       "0        0.000000     0.000000     0.000000        1.0                    0.0   \n",
       "1        0.052632     0.000000     0.600000        0.0                    0.0   \n",
       "2        0.714286     0.285714     0.000000        0.0                    1.0   \n",
       "3        0.911765     0.205882     0.666667        0.0                    1.0   \n",
       "4        0.250000     0.071429     0.250000        1.0                    0.0   \n",
       "...           ...          ...          ...        ...                    ...   \n",
       "12888    0.289474     0.105263     0.000000        0.0                    1.0   \n",
       "12889    0.782609     0.043478     0.500000        0.0                    0.0   \n",
       "12890    0.271186     0.050847     0.500000        0.0                    1.0   \n",
       "12891    0.210526     0.078947     0.000000        0.0                    1.0   \n",
       "12892    0.441176     0.058824     0.500000        0.0                    1.0   \n",
       "\n",
       "       formula  neither  \n",
       "0          0.0      0.0  \n",
       "1          1.0      0.0  \n",
       "2          0.0      0.0  \n",
       "3          0.0      0.0  \n",
       "4          0.0      0.0  \n",
       "...        ...      ...  \n",
       "12888      0.0      0.0  \n",
       "12889      1.0      0.0  \n",
       "12890      0.0      0.0  \n",
       "12891      0.0      0.0  \n",
       "12892      0.0      0.0  \n",
       "\n",
       "[12893 rows x 13 columns]"
      ]
     },
     "execution_count": 3,
     "metadata": {},
     "output_type": "execute_result"
    }
   ],
   "source": [
    "#scale the data\n",
    "scaler = MinMaxScaler()\n",
    "scaler.fit(df)\n",
    "scaler.transform(df)\n",
    "df1 = pd.DataFrame(scaler.transform(df))\n",
    "df1.columns = df.columns\n",
    "df1"
   ]
  },
  {
   "cell_type": "code",
   "execution_count": 4,
   "id": "4eb464da",
   "metadata": {},
   "outputs": [],
   "source": [
    "# train test split\n",
    "# Drop the first_buy_brand since it is highly correlated to cur_brand\n",
    "\n",
    "df_x = df1.drop(columns= ['cur_brand','first_buy_brand'])\n",
    "X_train, X_test, y_train, y_test = train_test_split(df_x, \n",
    "                                                   df1['cur_brand'],\n",
    "                                                    test_size = 0.2,\n",
    "                                                    stratify=df1['cur_brand'], \n",
    "                                                    random_state=0)"
   ]
  },
  {
   "cell_type": "markdown",
   "id": "d27303bf",
   "metadata": {},
   "source": [
    "# 2. Upsampling"
   ]
  },
  {
   "cell_type": "code",
   "execution_count": 5,
   "id": "cf4fb138",
   "metadata": {},
   "outputs": [
    {
     "data": {
      "image/png": "[encoded data removed]",
      "text/plain": [
       "<Figure size 432x288 with 1 Axes>"
      ]
     },
     "metadata": {},
     "output_type": "display_data"
    }
   ],
   "source": [
    "# dependent variables: current brand\n",
    "ax = sns.countplot(x=\"cur_brand\", data=df)"
   ]
  },
  {
   "cell_type": "code",
   "execution_count": 6,
   "id": "60fa3529",
   "metadata": {},
   "outputs": [],
   "source": [
    "# Returning to one dataframe\n",
    "training_set = pd.concat([X_train, y_train], axis=1)\n",
    "\n",
    "# Separating classes\n",
    "our_brand = training_set[training_set.cur_brand == 1]\n",
    "not_our_brand = training_set[training_set.cur_brand == 0]"
   ]
  },
  {
   "cell_type": "code",
   "execution_count": 7,
   "id": "5293234f",
   "metadata": {},
   "outputs": [
    {
     "data": {
      "text/plain": [
       "0.0    0.5\n",
       "1.0    0.5\n",
       "Name: cur_brand, dtype: float64"
      ]
     },
     "execution_count": 7,
     "metadata": {},
     "output_type": "execute_result"
    }
   ],
   "source": [
    "# Oversampling the minority\n",
    "oversample = resample(our_brand, \n",
    "                       replace=True, \n",
    "                       n_samples=len(not_our_brand), #set the number of samples to equal the number of the majority class\n",
    "                       random_state=0)\n",
    "\n",
    "# Returning to new training set\n",
    "oversample_train = pd.concat([not_our_brand, oversample])\n",
    "oversample_train.cur_brand.value_counts(normalize=True)"
   ]
  },
  {
   "cell_type": "code",
   "execution_count": 8,
   "id": "4494f84a",
   "metadata": {},
   "outputs": [
    {
     "data": {
      "text/html": [
       "<div>\n",
       "<style scoped>\n",
       "    .dataframe tbody tr th:only-of-type {\n",
       "        vertical-align: middle;\n",
       "    }\n",
       "\n",
       "    .dataframe tbody tr th {\n",
       "        vertical-align: top;\n",
       "    }\n",
       "\n",
       "    .dataframe thead th {\n",
       "        text-align: right;\n",
       "    }\n",
       "</style>\n",
       "<table border=\"1\" class=\"dataframe\">\n",
       "  <thead>\n",
       "    <tr style=\"text-align: right;\">\n",
       "      <th></th>\n",
       "      <th>babyage</th>\n",
       "      <th>ZONE</th>\n",
       "      <th>enroll_type2</th>\n",
       "      <th>enroll_age</th>\n",
       "      <th>open_rate0</th>\n",
       "      <th>click_rate0</th>\n",
       "      <th>redem_rate0</th>\n",
       "      <th>breastfed</th>\n",
       "      <th>breastfed_and_formula</th>\n",
       "      <th>formula</th>\n",
       "      <th>neither</th>\n",
       "      <th>cur_brand</th>\n",
       "    </tr>\n",
       "  </thead>\n",
       "  <tbody>\n",
       "    <tr>\n",
       "      <th>4965</th>\n",
       "      <td>0.916667</td>\n",
       "      <td>1.0</td>\n",
       "      <td>0.0</td>\n",
       "      <td>0.497130</td>\n",
       "      <td>0.000000</td>\n",
       "      <td>0.000000</td>\n",
       "      <td>0.142857</td>\n",
       "      <td>0.0</td>\n",
       "      <td>1.0</td>\n",
       "      <td>0.0</td>\n",
       "      <td>0.0</td>\n",
       "      <td>0.0</td>\n",
       "    </tr>\n",
       "    <tr>\n",
       "      <th>2214</th>\n",
       "      <td>0.166667</td>\n",
       "      <td>0.0</td>\n",
       "      <td>1.0</td>\n",
       "      <td>0.472983</td>\n",
       "      <td>0.026087</td>\n",
       "      <td>0.000000</td>\n",
       "      <td>0.250000</td>\n",
       "      <td>0.0</td>\n",
       "      <td>1.0</td>\n",
       "      <td>0.0</td>\n",
       "      <td>0.0</td>\n",
       "      <td>0.0</td>\n",
       "    </tr>\n",
       "    <tr>\n",
       "      <th>6208</th>\n",
       "      <td>0.333333</td>\n",
       "      <td>1.0</td>\n",
       "      <td>0.0</td>\n",
       "      <td>0.488793</td>\n",
       "      <td>0.173913</td>\n",
       "      <td>0.021739</td>\n",
       "      <td>0.090909</td>\n",
       "      <td>0.0</td>\n",
       "      <td>1.0</td>\n",
       "      <td>0.0</td>\n",
       "      <td>0.0</td>\n",
       "      <td>0.0</td>\n",
       "    </tr>\n",
       "    <tr>\n",
       "      <th>10460</th>\n",
       "      <td>0.083333</td>\n",
       "      <td>1.0</td>\n",
       "      <td>0.0</td>\n",
       "      <td>0.491391</td>\n",
       "      <td>0.750000</td>\n",
       "      <td>0.138889</td>\n",
       "      <td>0.000000</td>\n",
       "      <td>0.0</td>\n",
       "      <td>1.0</td>\n",
       "      <td>0.0</td>\n",
       "      <td>0.0</td>\n",
       "      <td>0.0</td>\n",
       "    </tr>\n",
       "    <tr>\n",
       "      <th>2909</th>\n",
       "      <td>0.916667</td>\n",
       "      <td>1.0</td>\n",
       "      <td>1.0</td>\n",
       "      <td>0.500162</td>\n",
       "      <td>0.040000</td>\n",
       "      <td>0.000000</td>\n",
       "      <td>0.000000</td>\n",
       "      <td>1.0</td>\n",
       "      <td>0.0</td>\n",
       "      <td>0.0</td>\n",
       "      <td>0.0</td>\n",
       "      <td>0.0</td>\n",
       "    </tr>\n",
       "    <tr>\n",
       "      <th>...</th>\n",
       "      <td>...</td>\n",
       "      <td>...</td>\n",
       "      <td>...</td>\n",
       "      <td>...</td>\n",
       "      <td>...</td>\n",
       "      <td>...</td>\n",
       "      <td>...</td>\n",
       "      <td>...</td>\n",
       "      <td>...</td>\n",
       "      <td>...</td>\n",
       "      <td>...</td>\n",
       "      <td>...</td>\n",
       "    </tr>\n",
       "    <tr>\n",
       "      <th>4316</th>\n",
       "      <td>0.750000</td>\n",
       "      <td>1.0</td>\n",
       "      <td>1.0</td>\n",
       "      <td>0.515106</td>\n",
       "      <td>0.000000</td>\n",
       "      <td>0.000000</td>\n",
       "      <td>0.333333</td>\n",
       "      <td>0.0</td>\n",
       "      <td>1.0</td>\n",
       "      <td>0.0</td>\n",
       "      <td>0.0</td>\n",
       "      <td>1.0</td>\n",
       "    </tr>\n",
       "    <tr>\n",
       "      <th>3508</th>\n",
       "      <td>0.083333</td>\n",
       "      <td>1.0</td>\n",
       "      <td>1.0</td>\n",
       "      <td>0.542610</td>\n",
       "      <td>0.444444</td>\n",
       "      <td>0.074074</td>\n",
       "      <td>0.400000</td>\n",
       "      <td>0.0</td>\n",
       "      <td>1.0</td>\n",
       "      <td>0.0</td>\n",
       "      <td>0.0</td>\n",
       "      <td>1.0</td>\n",
       "    </tr>\n",
       "    <tr>\n",
       "      <th>5898</th>\n",
       "      <td>0.916667</td>\n",
       "      <td>0.0</td>\n",
       "      <td>1.0</td>\n",
       "      <td>0.491933</td>\n",
       "      <td>0.237288</td>\n",
       "      <td>0.016949</td>\n",
       "      <td>0.000000</td>\n",
       "      <td>0.0</td>\n",
       "      <td>1.0</td>\n",
       "      <td>0.0</td>\n",
       "      <td>0.0</td>\n",
       "      <td>1.0</td>\n",
       "    </tr>\n",
       "    <tr>\n",
       "      <th>527</th>\n",
       "      <td>1.000000</td>\n",
       "      <td>1.0</td>\n",
       "      <td>1.0</td>\n",
       "      <td>0.489875</td>\n",
       "      <td>0.031579</td>\n",
       "      <td>0.000000</td>\n",
       "      <td>0.000000</td>\n",
       "      <td>0.0</td>\n",
       "      <td>1.0</td>\n",
       "      <td>0.0</td>\n",
       "      <td>0.0</td>\n",
       "      <td>1.0</td>\n",
       "    </tr>\n",
       "    <tr>\n",
       "      <th>8687</th>\n",
       "      <td>0.000000</td>\n",
       "      <td>1.0</td>\n",
       "      <td>1.0</td>\n",
       "      <td>0.510666</td>\n",
       "      <td>0.098039</td>\n",
       "      <td>0.000000</td>\n",
       "      <td>0.333333</td>\n",
       "      <td>0.0</td>\n",
       "      <td>1.0</td>\n",
       "      <td>0.0</td>\n",
       "      <td>0.0</td>\n",
       "      <td>1.0</td>\n",
       "    </tr>\n",
       "  </tbody>\n",
       "</table>\n",
       "<p>10998 rows × 12 columns</p>\n",
       "</div>"
      ],
      "text/plain": [
       "        babyage  ZONE  enroll_type2  enroll_age  open_rate0  click_rate0  \\\n",
       "4965   0.916667   1.0           0.0    0.497130    0.000000     0.000000   \n",
       "2214   0.166667   0.0           1.0    0.472983    0.026087     0.000000   \n",
       "6208   0.333333   1.0           0.0    0.488793    0.173913     0.021739   \n",
       "10460  0.083333   1.0           0.0    0.491391    0.750000     0.138889   \n",
       "2909   0.916667   1.0           1.0    0.500162    0.040000     0.000000   \n",
       "...         ...   ...           ...         ...         ...          ...   \n",
       "4316   0.750000   1.0           1.0    0.515106    0.000000     0.000000   \n",
       "3508   0.083333   1.0           1.0    0.542610    0.444444     0.074074   \n",
       "5898   0.916667   0.0           1.0    0.491933    0.237288     0.016949   \n",
       "527    1.000000   1.0           1.0    0.489875    0.031579     0.000000   \n",
       "8687   0.000000   1.0           1.0    0.510666    0.098039     0.000000   \n",
       "\n",
       "       redem_rate0  breastfed  breastfed_and_formula  formula  neither  \\\n",
       "4965      0.142857        0.0                    1.0      0.0      0.0   \n",
       "2214      0.250000        0.0                    1.0      0.0      0.0   \n",
       "6208      0.090909        0.0                    1.0      0.0      0.0   \n",
       "10460     0.000000        0.0                    1.0      0.0      0.0   \n",
       "2909      0.000000        1.0                    0.0      0.0      0.0   \n",
       "...            ...        ...                    ...      ...      ...   \n",
       "4316      0.333333        0.0                    1.0      0.0      0.0   \n",
       "3508      0.400000        0.0                    1.0      0.0      0.0   \n",
       "5898      0.000000        0.0                    1.0      0.0      0.0   \n",
       "527       0.000000        0.0                    1.0      0.0      0.0   \n",
       "8687      0.333333        0.0                    1.0      0.0      0.0   \n",
       "\n",
       "       cur_brand  \n",
       "4965         0.0  \n",
       "2214         0.0  \n",
       "6208         0.0  \n",
       "10460        0.0  \n",
       "2909         0.0  \n",
       "...          ...  \n",
       "4316         1.0  \n",
       "3508         1.0  \n",
       "5898         1.0  \n",
       "527          1.0  \n",
       "8687         1.0  \n",
       "\n",
       "[10998 rows x 12 columns]"
      ]
     },
     "execution_count": 8,
     "metadata": {},
     "output_type": "execute_result"
    }
   ],
   "source": [
    "oversample_train"
   ]
  },
  {
   "cell_type": "code",
   "execution_count": 9,
   "id": "7184138a",
   "metadata": {},
   "outputs": [],
   "source": [
    "# Separate oversampled data into X and y sets\n",
    "oversample_X_train = oversample_train.drop('cur_brand', axis=1)\n",
    "oversample_y_train = oversample_train.cur_brand"
   ]
  },
  {
   "cell_type": "markdown",
   "id": "ee646b90",
   "metadata": {},
   "source": [
    "# 3. Modeling"
   ]
  },
  {
   "cell_type": "markdown",
   "id": "4f3f3ca5",
   "metadata": {},
   "source": [
    "## 3.1 Logistic Regression"
   ]
  },
  {
   "cell_type": "markdown",
   "id": "1f82e6a9",
   "metadata": {},
   "source": [
    "### 3.1.1 Fit the default model"
   ]
  },
  {
   "cell_type": "code",
   "execution_count": 10,
   "id": "3d0ad6f4",
   "metadata": {},
   "outputs": [
    {
     "name": "stdout",
     "output_type": "stream",
     "text": [
      "[0.61363636 0.62454545 0.63181818 0.62528422 0.63028649]\n",
      "-0.4995453718857974\n",
      "0.6251 accuracy with a standard deviation of 0.01\n"
     ]
    }
   ],
   "source": [
    "clf_lr = LogisticRegression()\n",
    "\n",
    "# cross validation\n",
    "scores = cross_val_score(clf_lr, oversample_X_train, oversample_y_train, scoring='accuracy', cv=5)\n",
    "print(scores)\n",
    "\n",
    "# make cross validated predictions\n",
    "y_pred = cross_val_predict(clf_lr, oversample_X_train, oversample_y_train, cv=5)\n",
    "print(r2_score(oversample_y_train, y_pred))\n",
    "print(\"%0.4f accuracy with a standard deviation of %0.2f\" % (scores.mean(), scores.std()))"
   ]
  },
  {
   "cell_type": "code",
   "execution_count": 11,
   "id": "338141dc",
   "metadata": {},
   "outputs": [
    {
     "name": "stdout",
     "output_type": "stream",
     "text": [
      "              precision    recall  f1-score   support\n",
      "\n",
      "         0.0       0.65      0.65      0.65      1375\n",
      "         1.0       0.60      0.60      0.60      1204\n",
      "\n",
      "    accuracy                           0.63      2579\n",
      "   macro avg       0.62      0.62      0.62      2579\n",
      "weighted avg       0.63      0.63      0.63      2579\n",
      "\n"
     ]
    }
   ],
   "source": [
    "clf_lr.fit(oversample_X_train, oversample_y_train)\n",
    "# predict \n",
    "y_pred_lr = clf_lr.predict(X_test)\n",
    "print(metrics.classification_report(y_true=y_test, y_pred=y_pred_lr))"
   ]
  },
  {
   "cell_type": "markdown",
   "id": "40f9cfe5",
   "metadata": {},
   "source": [
    "###  3.1.2 Grid Search (hyperparameter tuning)"
   ]
  },
  {
   "cell_type": "code",
   "execution_count": 12,
   "id": "df1f2867",
   "metadata": {},
   "outputs": [
    {
     "name": "stdout",
     "output_type": "stream",
     "text": [
      "Fitting 3 folds for each of 120 candidates, totalling 360 fits\n"
     ]
    },
    {
     "data": {
      "text/plain": [
       "{'C': 10, 'max_iter': 100, 'penalty': 'l2', 'solver': 'newton-cg'}"
      ]
     },
     "execution_count": 12,
     "metadata": {},
     "output_type": "execute_result"
    }
   ],
   "source": [
    "clr_lr = LogisticRegression()\n",
    "\n",
    "param_grid = {\n",
    "    'C': [0.01, 0.1, 1, 10, 100],\n",
    "    'penalty': ['l1', 'l2'],\n",
    "    'max_iter': list(range(100,500,100)),\n",
    "    'solver': ['newton-cg', 'lbfgs', 'liblinear']\n",
    "}\n",
    "\n",
    "clf_lr = GridSearchCV(clr_lr, param_grid = param_grid, cv = 3, verbose=True, n_jobs=-1)\n",
    "\n",
    "# fit the data\n",
    "clf_lr.fit(oversample_X_train, oversample_y_train)\n",
    "clf_lr.best_params_"
   ]
  },
  {
   "cell_type": "code",
   "execution_count": 13,
   "id": "7619d4e3",
   "metadata": {},
   "outputs": [
    {
     "name": "stdout",
     "output_type": "stream",
     "text": [
      "accuracy:  0.6320279177975959\n"
     ]
    }
   ],
   "source": [
    "# apply the best set of parameters\n",
    "clf_lr = LogisticRegression(penalty=clf_lr.best_params_['penalty'], C=clf_lr.best_params_['C'],\n",
    "                           max_iter =clf_lr.best_params_['max_iter'], solver =clf_lr.best_params_['solver'])\n",
    "    \n",
    "# fit and predict\n",
    "clf_lr.fit(oversample_X_train, oversample_y_train)\n",
    "y_pred_lr = clf_lr.predict(X_test)\n",
    "\n",
    "# accuracy\n",
    "print(\"accuracy: \", metrics.accuracy_score(y_test, y_pred_lr))"
   ]
  },
  {
   "cell_type": "markdown",
   "id": "b2f1e2fc",
   "metadata": {},
   "source": [
    "### 3.1.3 Confusion Matrix"
   ]
  },
  {
   "cell_type": "code",
   "execution_count": 14,
   "id": "38e0fe4a",
   "metadata": {},
   "outputs": [
    {
     "name": "stdout",
     "output_type": "stream",
     "text": [
      "[[911 464]\n",
      " [485 719]]\n"
     ]
    },
    {
     "data": {
      "text/plain": [
       "<AxesSubplot:>"
      ]
     },
     "execution_count": 14,
     "metadata": {},
     "output_type": "execute_result"
    },
    {
     "data": {
      "image/png": "[encoded data removed]",
      "text/plain": [
       "<Figure size 576x288 with 2 Axes>"
      ]
     },
     "metadata": {},
     "output_type": "display_data"
    }
   ],
   "source": [
    "# get the confusion matrix\n",
    "cf_matrix = confusion_matrix(y_test, y_pred_lr)\n",
    "print(cf_matrix)\n",
    "\n",
    "group_names = ['True Neg','False Pos','False Neg','True Pos']\n",
    "group_counts = [\"{0:0.0f}\".format(value) for value in\n",
    "                cf_matrix.flatten()]\n",
    "group_percentages = [\"{0:.2%}\".format(value) for value in\n",
    "                     cf_matrix.flatten()/np.sum(cf_matrix)]\n",
    "labels = [f\"{v1}\\n{v2}\\n{v3}\" for v1, v2, v3 in\n",
    "          zip(group_names,group_counts,group_percentages)]\n",
    "labels = np.asarray(labels).reshape(2,2)\n",
    "sns.set(rc={'figure.figsize':(8,4)})\n",
    "sns.heatmap(cf_matrix, annot=labels, fmt='', cmap='Reds')"
   ]
  },
  {
   "cell_type": "markdown",
   "id": "a2e0659f",
   "metadata": {},
   "source": [
    "## 3.2 Naive Bayes"
   ]
  },
  {
   "cell_type": "markdown",
   "id": "93f92655",
   "metadata": {},
   "source": [
    "### 3.2.1 Fit the default model"
   ]
  },
  {
   "cell_type": "code",
   "execution_count": 15,
   "id": "a71990b3",
   "metadata": {},
   "outputs": [
    {
     "name": "stdout",
     "output_type": "stream",
     "text": [
      "[0.59727273 0.59681818 0.59727273 0.59618008 0.59299682]\n",
      "-0.6155664666302965\n",
      "0.5961 accuracy with a standard deviation of 0.00\n"
     ]
    }
   ],
   "source": [
    "clf_nb = GaussianNB()\n",
    "\n",
    "# cross validation\n",
    "scores = cross_val_score(clf_nb, oversample_X_train, oversample_y_train, scoring='accuracy', cv=5)\n",
    "print(scores)\n",
    "\n",
    "# make cross validated predictions\n",
    "y_pred = cross_val_predict(clf_nb, oversample_X_train, oversample_y_train, cv=5)\n",
    "print(r2_score(oversample_y_train, y_pred))\n",
    "print(\"%0.4f accuracy with a standard deviation of %0.2f\" % (scores.mean(), scores.std()))"
   ]
  },
  {
   "cell_type": "code",
   "execution_count": 16,
   "id": "dfa13318",
   "metadata": {},
   "outputs": [
    {
     "name": "stdout",
     "output_type": "stream",
     "text": [
      "              precision    recall  f1-score   support\n",
      "\n",
      "         0.0       0.60      0.81      0.69      1375\n",
      "         1.0       0.64      0.39      0.48      1204\n",
      "\n",
      "    accuracy                           0.61      2579\n",
      "   macro avg       0.62      0.60      0.59      2579\n",
      "weighted avg       0.62      0.61      0.60      2579\n",
      "\n"
     ]
    }
   ],
   "source": [
    "clf_nb.fit(oversample_X_train, oversample_y_train)\n",
    "# predict \n",
    "y_pred_lr = clf_nb.predict(X_test)\n",
    "print(metrics.classification_report(y_true=y_test, y_pred=y_pred_lr))"
   ]
  },
  {
   "cell_type": "markdown",
   "id": "eab5ba43",
   "metadata": {},
   "source": [
    "###  3.2.2 Grid Search (hyperparameter tuning)"
   ]
  },
  {
   "cell_type": "code",
   "execution_count": 17,
   "id": "df6ffce2",
   "metadata": {},
   "outputs": [
    {
     "name": "stdout",
     "output_type": "stream",
     "text": [
      "Fitting 3 folds for each of 100 candidates, totalling 300 fits\n"
     ]
    },
    {
     "data": {
      "text/plain": [
       "{'var_smoothing': 0.23101297000831597}"
      ]
     },
     "execution_count": 17,
     "metadata": {},
     "output_type": "execute_result"
    }
   ],
   "source": [
    "clr_nb = GaussianNB()\n",
    "\n",
    "param_grid = {'var_smoothing': np.logspace(0,-9, num=100)}\n",
    "\n",
    "clf_nb = GridSearchCV(clr_nb, param_grid = param_grid, cv = 3, verbose=True, n_jobs=-1)\n",
    "\n",
    "# fit the data\n",
    "clf_nb.fit(oversample_X_train, oversample_y_train)\n",
    "clf_nb.best_params_"
   ]
  },
  {
   "cell_type": "code",
   "execution_count": 18,
   "id": "bf90808e",
   "metadata": {},
   "outputs": [
    {
     "name": "stdout",
     "output_type": "stream",
     "text": [
      "accuracy:  0.6246607212097712\n"
     ]
    }
   ],
   "source": [
    "# apply the best set of parameters\n",
    "clf_nb = GaussianNB(var_smoothing=clf_nb.best_params_['var_smoothing'])\n",
    "    \n",
    "# fit and predict\n",
    "clf_nb.fit(oversample_X_train, oversample_y_train)\n",
    "y_pred_nb = clf_nb.predict(X_test)\n",
    "\n",
    "# accuracy\n",
    "print(\"accuracy: \", metrics.accuracy_score(y_test, y_pred_nb))"
   ]
  },
  {
   "cell_type": "markdown",
   "id": "8ae5a260",
   "metadata": {},
   "source": [
    "### 3.2.3 Confusion Matrix"
   ]
  },
  {
   "cell_type": "code",
   "execution_count": 19,
   "id": "5dd620f3",
   "metadata": {},
   "outputs": [
    {
     "name": "stdout",
     "output_type": "stream",
     "text": [
      "[[949 426]\n",
      " [542 662]]\n"
     ]
    },
    {
     "data": {
      "text/plain": [
       "<AxesSubplot:>"
      ]
     },
     "execution_count": 19,
     "metadata": {},
     "output_type": "execute_result"
    },
    {
     "data": {
      "image/png": "[encoded data removed]",
      "text/plain": [
       "<Figure size 576x288 with 2 Axes>"
      ]
     },
     "metadata": {},
     "output_type": "display_data"
    }
   ],
   "source": [
    "# get the confusion matrix\n",
    "cf_matrix = confusion_matrix(y_test, y_pred_nb)\n",
    "print(cf_matrix)\n",
    "\n",
    "group_names = ['True Neg','False Pos','False Neg','True Pos']\n",
    "group_counts = [\"{0:0.0f}\".format(value) for value in\n",
    "                cf_matrix.flatten()]\n",
    "group_percentages = [\"{0:.2%}\".format(value) for value in\n",
    "                     cf_matrix.flatten()/np.sum(cf_matrix)]\n",
    "labels = [f\"{v1}\\n{v2}\\n{v3}\" for v1, v2, v3 in\n",
    "          zip(group_names,group_counts,group_percentages)]\n",
    "labels = np.asarray(labels).reshape(2,2)\n",
    "sns.set(rc={'figure.figsize':(8,4)})\n",
    "sns.heatmap(cf_matrix, annot=labels, fmt='', cmap='Reds')"
   ]
  },
  {
   "cell_type": "markdown",
   "id": "1a96fcc9",
   "metadata": {},
   "source": [
    "## 3.3 KNN"
   ]
  },
  {
   "cell_type": "markdown",
   "id": "90f2a7d8",
   "metadata": {},
   "source": [
    "### 3.3.1 Fit the default model"
   ]
  },
  {
   "cell_type": "code",
   "execution_count": 20,
   "id": "2d321312",
   "metadata": {},
   "outputs": [
    {
     "name": "stdout",
     "output_type": "stream",
     "text": [
      "[0.62227273 0.64090909 0.66       0.60754889 0.63165075]\n",
      "-0.4700854700854702\n",
      "0.6325 accuracy with a standard deviation of 0.02\n"
     ]
    }
   ],
   "source": [
    "clf_knn = KNeighborsClassifier()\n",
    "\n",
    "# cross validation\n",
    "scores = cross_val_score(clf_knn, oversample_X_train, oversample_y_train, scoring='accuracy', cv=5)\n",
    "print(scores)\n",
    "\n",
    "# make cross validated predictions\n",
    "y_pred = cross_val_predict(clf_knn, oversample_X_train, oversample_y_train, cv=5)\n",
    "print(r2_score(oversample_y_train, y_pred))\n",
    "print(\"%0.4f accuracy with a standard deviation of %0.2f\" % (scores.mean(), scores.std()))"
   ]
  },
  {
   "cell_type": "code",
   "execution_count": 21,
   "id": "63ba27c4",
   "metadata": {},
   "outputs": [
    {
     "name": "stdout",
     "output_type": "stream",
     "text": [
      "              precision    recall  f1-score   support\n",
      "\n",
      "         0.0       0.61      0.61      0.61      1375\n",
      "         1.0       0.56      0.56      0.56      1204\n",
      "\n",
      "    accuracy                           0.59      2579\n",
      "   macro avg       0.58      0.58      0.58      2579\n",
      "weighted avg       0.59      0.59      0.59      2579\n",
      "\n"
     ]
    }
   ],
   "source": [
    "clf_knn.fit(oversample_X_train, oversample_y_train)\n",
    "# predict \n",
    "y_pred_knn = clf_knn.predict(X_test)\n",
    "print(metrics.classification_report(y_true=y_test, y_pred=y_pred_knn))"
   ]
  },
  {
   "cell_type": "markdown",
   "id": "16cddc54",
   "metadata": {},
   "source": [
    "### 3.3.2 Grid Search (hyperparameter tuning)"
   ]
  },
  {
   "cell_type": "code",
   "execution_count": 22,
   "id": "75eb2cce",
   "metadata": {},
   "outputs": [
    {
     "name": "stdout",
     "output_type": "stream",
     "text": [
      "Fitting 3 folds for each of 14 candidates, totalling 42 fits\n"
     ]
    },
    {
     "data": {
      "text/plain": [
       "{'n_neighbors': 3}"
      ]
     },
     "execution_count": 22,
     "metadata": {},
     "output_type": "execute_result"
    }
   ],
   "source": [
    "clr_knn = KNeighborsClassifier()\n",
    "\n",
    "param_grid = {'n_neighbors': list(range(2,16))}\n",
    "\n",
    "clf_knn = GridSearchCV(clr_knn, param_grid = param_grid, cv = 3, verbose=True, n_jobs=-1)\n",
    "\n",
    "# fit the data\n",
    "clf_knn.fit(oversample_X_train, oversample_y_train)\n",
    "clf_knn.best_params_"
   ]
  },
  {
   "cell_type": "code",
   "execution_count": 23,
   "id": "634a305a",
   "metadata": {},
   "outputs": [
    {
     "name": "stdout",
     "output_type": "stream",
     "text": [
      "accuracy:  0.569988367584335\n"
     ]
    }
   ],
   "source": [
    "# apply the best set of parameters\n",
    "clf_knn = KNeighborsClassifier(n_neighbors = clf_knn.best_params_['n_neighbors'])\n",
    "    \n",
    "# fit and predict\n",
    "clf_knn.fit(oversample_X_train, oversample_y_train)\n",
    "y_pred_knn = clf_knn.predict(X_test)\n",
    "\n",
    "# accuracy\n",
    "print(\"accuracy: \", metrics.accuracy_score(y_test, y_pred_knn))"
   ]
  },
  {
   "cell_type": "markdown",
   "id": "68c39457",
   "metadata": {},
   "source": [
    "### 3.3.3 Confusion Matrix"
   ]
  },
  {
   "cell_type": "code",
   "execution_count": 24,
   "id": "15ff78c4",
   "metadata": {},
   "outputs": [
    {
     "name": "stdout",
     "output_type": "stream",
     "text": [
      "[[848 527]\n",
      " [582 622]]\n"
     ]
    },
    {
     "data": {
      "text/plain": [
       "<AxesSubplot:>"
      ]
     },
     "execution_count": 24,
     "metadata": {},
     "output_type": "execute_result"
    },
    {
     "data": {
      "image/png": "[encoded data removed]",
      "text/plain": [
       "<Figure size 576x288 with 2 Axes>"
      ]
     },
     "metadata": {},
     "output_type": "display_data"
    }
   ],
   "source": [
    "# get the confusion matrix\n",
    "cf_matrix = confusion_matrix(y_test, y_pred_knn)\n",
    "print(cf_matrix)\n",
    "\n",
    "group_names = ['True Neg','False Pos','False Neg','True Pos']\n",
    "group_counts = [\"{0:0.0f}\".format(value) for value in\n",
    "                cf_matrix.flatten()]\n",
    "group_percentages = [\"{0:.2%}\".format(value) for value in\n",
    "                     cf_matrix.flatten()/np.sum(cf_matrix)]\n",
    "labels = [f\"{v1}\\n{v2}\\n{v3}\" for v1, v2, v3 in\n",
    "          zip(group_names,group_counts,group_percentages)]\n",
    "labels = np.asarray(labels).reshape(2,2)\n",
    "sns.set(rc={'figure.figsize':(8,4)})\n",
    "sns.heatmap(cf_matrix, annot=labels, fmt='', cmap='Reds')"
   ]
  },
  {
   "cell_type": "markdown",
   "id": "93700c12",
   "metadata": {},
   "source": [
    "## 3.4 SVC"
   ]
  },
  {
   "cell_type": "markdown",
   "id": "d625fbf7",
   "metadata": {},
   "source": [
    "### 3.4.1 Fit the default model"
   ]
  },
  {
   "cell_type": "code",
   "execution_count": 25,
   "id": "aab591d4",
   "metadata": {},
   "outputs": [
    {
     "name": "stdout",
     "output_type": "stream",
     "text": [
      "[0.61363636 0.60636364 0.61454545 0.61800819 0.61937244]\n",
      "-0.5424622658665212\n",
      "0.6144 accuracy with a standard deviation of 0.00\n"
     ]
    }
   ],
   "source": [
    "clf_svc = SVC()\n",
    "\n",
    "# cross validation\n",
    "scores = cross_val_score(clf_svc, oversample_X_train, oversample_y_train, scoring='accuracy', cv=5)\n",
    "print(scores)\n",
    "\n",
    "# make cross validated predictions\n",
    "y_pred = cross_val_predict(clf_svc, oversample_X_train, oversample_y_train, cv=5)\n",
    "print(r2_score(oversample_y_train, y_pred))\n",
    "print(\"%0.4f accuracy with a standard deviation of %0.2f\" % (scores.mean(), scores.std()))"
   ]
  },
  {
   "cell_type": "code",
   "execution_count": 26,
   "id": "2cb7b7eb",
   "metadata": {},
   "outputs": [
    {
     "name": "stdout",
     "output_type": "stream",
     "text": [
      "              precision    recall  f1-score   support\n",
      "\n",
      "         0.0       0.65      0.66      0.66      1375\n",
      "         1.0       0.61      0.60      0.60      1204\n",
      "\n",
      "    accuracy                           0.63      2579\n",
      "   macro avg       0.63      0.63      0.63      2579\n",
      "weighted avg       0.63      0.63      0.63      2579\n",
      "\n"
     ]
    }
   ],
   "source": [
    "clf_svc.fit(oversample_X_train, oversample_y_train)\n",
    "# predict \n",
    "y_pred_svc = clf_svc.predict(X_test)\n",
    "print(metrics.classification_report(y_true=y_test, y_pred=y_pred_svc))"
   ]
  },
  {
   "cell_type": "markdown",
   "id": "35b367ae",
   "metadata": {},
   "source": [
    "### 3.4.2 Grid Search (hyperparameter tuning)"
   ]
  },
  {
   "cell_type": "code",
   "execution_count": 27,
   "id": "1cf6000d",
   "metadata": {},
   "outputs": [
    {
     "name": "stdout",
     "output_type": "stream",
     "text": [
      "Fitting 3 folds for each of 12 candidates, totalling 36 fits\n"
     ]
    },
    {
     "data": {
      "text/plain": [
       "{'C': 10, 'gamma': 0.001, 'kernel': 'linear'}"
      ]
     },
     "execution_count": 27,
     "metadata": {},
     "output_type": "execute_result"
    }
   ],
   "source": [
    "clr_svc = SVC()\n",
    "\n",
    "param_grid =  {'C': [ 0.1, 1, 10], 'kernel': ['rbf', 'linear' ], 'gamma': [ 1e-3, 1e-4 ] }\n",
    "\n",
    "clf_svc = GridSearchCV(clr_svc, param_grid = param_grid, cv = 3, verbose=True, n_jobs=-1)\n",
    "\n",
    "# fit the data\n",
    "clf_svc.fit(oversample_X_train, oversample_y_train)\n",
    "clf_svc.best_params_"
   ]
  },
  {
   "cell_type": "code",
   "execution_count": 28,
   "id": "d3674983",
   "metadata": {},
   "outputs": [
    {
     "name": "stdout",
     "output_type": "stream",
     "text": [
      "accuracy:  0.6359053896859248\n"
     ]
    }
   ],
   "source": [
    "# apply the best set of parameters\n",
    "clf_svc = SVC(C = clf_svc.best_params_['C'], gamma = clf_svc.best_params_['gamma'], \n",
    "              kernel = clf_svc.best_params_['kernel'])\n",
    "    \n",
    "# fit and predict\n",
    "clf_svc.fit(oversample_X_train, oversample_y_train)\n",
    "y_pred_svc = clf_svc.predict(X_test)\n",
    "\n",
    "# accuracy\n",
    "print(\"accuracy: \", metrics.accuracy_score(y_test, y_pred_svc))"
   ]
  },
  {
   "cell_type": "markdown",
   "id": "4bb84060",
   "metadata": {},
   "source": [
    "### 3.4.3 Confusion Matrix"
   ]
  },
  {
   "cell_type": "code",
   "execution_count": 29,
   "id": "e80f7648",
   "metadata": {},
   "outputs": [
    {
     "name": "stdout",
     "output_type": "stream",
     "text": [
      "[[956 419]\n",
      " [520 684]]\n"
     ]
    },
    {
     "data": {
      "text/plain": [
       "<AxesSubplot:>"
      ]
     },
     "execution_count": 29,
     "metadata": {},
     "output_type": "execute_result"
    },
    {
     "data": {
      "image/png": "[encoded data removed]",
      "text/plain": [
       "<Figure size 576x288 with 2 Axes>"
      ]
     },
     "metadata": {},
     "output_type": "display_data"
    }
   ],
   "source": [
    "# get the confusion matrix\n",
    "cf_matrix = confusion_matrix(y_test, y_pred_svc)\n",
    "print(cf_matrix)\n",
    "\n",
    "group_names = ['True Neg','False Pos','False Neg','True Pos']\n",
    "group_counts = [\"{0:0.0f}\".format(value) for value in\n",
    "                cf_matrix.flatten()]\n",
    "group_percentages = [\"{0:.2%}\".format(value) for value in\n",
    "                     cf_matrix.flatten()/np.sum(cf_matrix)]\n",
    "labels = [f\"{v1}\\n{v2}\\n{v3}\" for v1, v2, v3 in\n",
    "          zip(group_names,group_counts,group_percentages)]\n",
    "labels = np.asarray(labels).reshape(2,2)\n",
    "sns.set(rc={'figure.figsize':(8,4)})\n",
    "sns.heatmap(cf_matrix, annot=labels, fmt='', cmap='Reds')"
   ]
  },
  {
   "cell_type": "markdown",
   "id": "37177a7f",
   "metadata": {},
   "source": [
    "## 3.5 Decision Tree"
   ]
  },
  {
   "cell_type": "markdown",
   "id": "0806e4ff",
   "metadata": {},
   "source": [
    "### 3.5.1 Fit the default model"
   ]
  },
  {
   "cell_type": "code",
   "execution_count": 30,
   "id": "553a4ca8",
   "metadata": {},
   "outputs": [
    {
     "name": "stdout",
     "output_type": "stream",
     "text": [
      "[0.70727273 0.70363636 0.71090909 0.72214643 0.71714416]\n",
      "-0.14457174031642106\n",
      "0.7122 accuracy with a standard deviation of 0.01\n"
     ]
    }
   ],
   "source": [
    "clf_dt = DecisionTreeClassifier()\n",
    "\n",
    "# cross validation\n",
    "scores = cross_val_score(clf_dt, oversample_X_train, oversample_y_train, scoring='accuracy', cv=5)\n",
    "print(scores)\n",
    "\n",
    "# make cross validated predictions\n",
    "y_pred = cross_val_predict(clf_dt, oversample_X_train, oversample_y_train, cv=5)\n",
    "print(r2_score(oversample_y_train, y_pred))\n",
    "print(\"%0.4f accuracy with a standard deviation of %0.2f\" % (scores.mean(), scores.std()))"
   ]
  },
  {
   "cell_type": "code",
   "execution_count": 31,
   "id": "b82a708c",
   "metadata": {},
   "outputs": [
    {
     "name": "stdout",
     "output_type": "stream",
     "text": [
      "              precision    recall  f1-score   support\n",
      "\n",
      "         0.0       0.59      0.69      0.63      1375\n",
      "         1.0       0.56      0.45      0.50      1204\n",
      "\n",
      "    accuracy                           0.58      2579\n",
      "   macro avg       0.57      0.57      0.56      2579\n",
      "weighted avg       0.57      0.58      0.57      2579\n",
      "\n"
     ]
    }
   ],
   "source": [
    "clf_dt.fit(oversample_X_train, oversample_y_train)\n",
    "# predict \n",
    "y_pred_dt = clf_dt.predict(X_test)\n",
    "print(metrics.classification_report(y_true=y_test, y_pred=y_pred_dt))"
   ]
  },
  {
   "cell_type": "markdown",
   "id": "379770f4",
   "metadata": {},
   "source": [
    "### 3.5.2 Grid Search (hyperparameter tuning)"
   ]
  },
  {
   "cell_type": "code",
   "execution_count": 32,
   "id": "6fb80d89",
   "metadata": {},
   "outputs": [
    {
     "name": "stdout",
     "output_type": "stream",
     "text": [
      "Fitting 3 folds for each of 36 candidates, totalling 108 fits\n"
     ]
    },
    {
     "data": {
      "text/plain": [
       "{'criterion': 'entropy', 'max_depth': 7, 'min_samples_leaf': 3}"
      ]
     },
     "execution_count": 32,
     "metadata": {},
     "output_type": "execute_result"
    }
   ],
   "source": [
    "clr_dt = DecisionTreeClassifier()\n",
    "\n",
    "param_grid =  {'criterion': ['entropy', 'gini'], 'max_depth': range(4,10), 'min_samples_leaf': range(2,5)}\n",
    "\n",
    "clf_dt = GridSearchCV(clr_dt, param_grid = param_grid, cv = 3, verbose=True, n_jobs=-1)\n",
    "\n",
    "# fit the data\n",
    "clf_dt.fit(oversample_X_train, oversample_y_train)\n",
    "clf_dt.best_params_"
   ]
  },
  {
   "cell_type": "code",
   "execution_count": 33,
   "id": "10fcf837",
   "metadata": {},
   "outputs": [
    {
     "name": "stdout",
     "output_type": "stream",
     "text": [
      "accuracy:  0.6172935246219465\n"
     ]
    }
   ],
   "source": [
    "# apply the best set of parameters\n",
    "clf_dt = DecisionTreeClassifier(criterion = clf_dt.best_params_['criterion'], \n",
    "                                max_depth = clf_dt.best_params_['max_depth'],\n",
    "                                min_samples_leaf = clf_dt.best_params_['min_samples_leaf'])\n",
    "    \n",
    "# fit and predict\n",
    "clf_dt.fit(oversample_X_train, oversample_y_train)\n",
    "y_pred_dt = clf_dt.predict(X_test)\n",
    "\n",
    "# accuracy\n",
    "print(\"accuracy: \", metrics.accuracy_score(y_test, y_pred_dt))"
   ]
  },
  {
   "cell_type": "markdown",
   "id": "62a16569",
   "metadata": {},
   "source": [
    "### 3.5.3 Confusion Matrix"
   ]
  },
  {
   "cell_type": "code",
   "execution_count": 34,
   "id": "15bbd48e",
   "metadata": {},
   "outputs": [
    {
     "name": "stdout",
     "output_type": "stream",
     "text": [
      "[[973 402]\n",
      " [585 619]]\n"
     ]
    },
    {
     "data": {
      "text/plain": [
       "<AxesSubplot:>"
      ]
     },
     "execution_count": 34,
     "metadata": {},
     "output_type": "execute_result"
    },
    {
     "data": {
      "image/png": "[encoded data removed]",
      "text/plain": [
       "<Figure size 576x288 with 2 Axes>"
      ]
     },
     "metadata": {},
     "output_type": "display_data"
    }
   ],
   "source": [
    "# get the confusion matrix\n",
    "cf_matrix = confusion_matrix(y_test, y_pred_dt)\n",
    "print(cf_matrix)\n",
    "\n",
    "group_names = ['True Neg','False Pos','False Neg','True Pos']\n",
    "group_counts = [\"{0:0.0f}\".format(value) for value in\n",
    "                cf_matrix.flatten()]\n",
    "group_percentages = [\"{0:.2%}\".format(value) for value in\n",
    "                     cf_matrix.flatten()/np.sum(cf_matrix)]\n",
    "labels = [f\"{v1}\\n{v2}\\n{v3}\" for v1, v2, v3 in\n",
    "          zip(group_names,group_counts,group_percentages)]\n",
    "labels = np.asarray(labels).reshape(2,2)\n",
    "sns.set(rc={'figure.figsize':(8,4)})\n",
    "sns.heatmap(cf_matrix, annot=labels, fmt='', cmap='Reds')"
   ]
  },
  {
   "cell_type": "markdown",
   "id": "67ed7ba3",
   "metadata": {},
   "source": [
    "## 3.6 Random Forest"
   ]
  },
  {
   "cell_type": "markdown",
   "id": "0701f91a",
   "metadata": {},
   "source": [
    "### 3.6.1 Fit the default model"
   ]
  },
  {
   "cell_type": "code",
   "execution_count": 35,
   "id": "a2db4992",
   "metadata": {},
   "outputs": [
    {
     "name": "stdout",
     "output_type": "stream",
     "text": [
      "[0.75045455 0.775      0.77318182 0.75579809 0.77262392]\n",
      "0.05982905982905984\n",
      "0.7654 accuracy with a standard deviation of 0.01\n"
     ]
    }
   ],
   "source": [
    "clf_rf = RandomForestClassifier()\n",
    "\n",
    "# cross validation\n",
    "scores = cross_val_score(clf_rf, oversample_X_train, oversample_y_train, scoring='accuracy', cv=5)\n",
    "print(scores)\n",
    "\n",
    "# make cross validated predictions\n",
    "y_pred = cross_val_predict(clf_rf, oversample_X_train, oversample_y_train, cv=5)\n",
    "print(r2_score(oversample_y_train, y_pred))\n",
    "print(\"%0.4f accuracy with a standard deviation of %0.2f\" % (scores.mean(), scores.std()))"
   ]
  },
  {
   "cell_type": "code",
   "execution_count": 36,
   "id": "f552fe6e",
   "metadata": {
    "scrolled": true
   },
   "outputs": [
    {
     "name": "stdout",
     "output_type": "stream",
     "text": [
      "              precision    recall  f1-score   support\n",
      "\n",
      "         0.0       0.62      0.77      0.68      1375\n",
      "         1.0       0.63      0.46      0.53      1204\n",
      "\n",
      "    accuracy                           0.62      2579\n",
      "   macro avg       0.63      0.61      0.61      2579\n",
      "weighted avg       0.63      0.62      0.61      2579\n",
      "\n"
     ]
    }
   ],
   "source": [
    "clf_rf.fit(oversample_X_train, oversample_y_train)\n",
    "# predict \n",
    "y_pred_rf = clf_rf.predict(X_test)\n",
    "print(metrics.classification_report(y_true=y_test, y_pred=y_pred_rf))"
   ]
  },
  {
   "cell_type": "markdown",
   "id": "bbd4d150",
   "metadata": {},
   "source": [
    "### 3.6.2 Grid Search (hyperparameter tuning)"
   ]
  },
  {
   "cell_type": "code",
   "execution_count": 37,
   "id": "04793c76",
   "metadata": {},
   "outputs": [
    {
     "name": "stdout",
     "output_type": "stream",
     "text": [
      "Fitting 3 folds for each of 90 candidates, totalling 270 fits\n"
     ]
    },
    {
     "data": {
      "text/plain": [
       "{'criterion': 'gini', 'max_depth': 12, 'n_estimators': 500}"
      ]
     },
     "execution_count": 37,
     "metadata": {},
     "output_type": "execute_result"
    }
   ],
   "source": [
    "clr_rf = RandomForestClassifier()\n",
    "\n",
    "param_grid =  {'n_estimators': range(100,600,100),\n",
    "               'criterion': ['entropy', 'gini'], 'max_depth': range(4,13)}\n",
    "\n",
    "clf_rf = GridSearchCV(clr_rf, param_grid = param_grid, cv = 3, verbose=True, n_jobs=-1)\n",
    "\n",
    "# fit the data\n",
    "clf_rf.fit(oversample_X_train, oversample_y_train)\n",
    "clf_rf.best_params_"
   ]
  },
  {
   "cell_type": "code",
   "execution_count": 38,
   "id": "5ffd6fa6",
   "metadata": {},
   "outputs": [
    {
     "name": "stdout",
     "output_type": "stream",
     "text": [
      "accuracy:  0.6432725862737495\n"
     ]
    }
   ],
   "source": [
    "# apply the best set of parameters\n",
    "clf_rf = RandomForestClassifier(n_estimators = clf_rf.best_params_['n_estimators'], \n",
    "                                criterion = clf_rf.best_params_['criterion'],\n",
    "                                max_depth = clf_rf.best_params_['max_depth'])\n",
    "    \n",
    "# fit and predict\n",
    "clf_rf.fit(oversample_X_train, oversample_y_train)\n",
    "y_pred_rf = clf_rf.predict(X_test)\n",
    "\n",
    "# accuracy\n",
    "print(\"accuracy: \", metrics.accuracy_score(y_test, y_pred_rf))"
   ]
  },
  {
   "cell_type": "markdown",
   "id": "71a8c943",
   "metadata": {},
   "source": [
    "### 3.6.3 Confusion Matrix"
   ]
  },
  {
   "cell_type": "code",
   "execution_count": 39,
   "id": "a183a420",
   "metadata": {},
   "outputs": [
    {
     "name": "stdout",
     "output_type": "stream",
     "text": [
      "[[1015  360]\n",
      " [ 560  644]]\n"
     ]
    },
    {
     "data": {
      "text/plain": [
       "<AxesSubplot:>"
      ]
     },
     "execution_count": 39,
     "metadata": {},
     "output_type": "execute_result"
    },
    {
     "data": {
      "image/png": "[encoded data removed]",
      "text/plain": [
       "<Figure size 576x288 with 2 Axes>"
      ]
     },
     "metadata": {},
     "output_type": "display_data"
    }
   ],
   "source": [
    "# get the confusion matrix\n",
    "cf_matrix = confusion_matrix(y_test, y_pred_rf)\n",
    "print(cf_matrix)\n",
    "\n",
    "group_names = ['True Neg','False Pos','False Neg','True Pos']\n",
    "group_counts = [\"{0:0.0f}\".format(value) for value in\n",
    "                cf_matrix.flatten()]\n",
    "group_percentages = [\"{0:.2%}\".format(value) for value in\n",
    "                     cf_matrix.flatten()/np.sum(cf_matrix)]\n",
    "labels = [f\"{v1}\\n{v2}\\n{v3}\" for v1, v2, v3 in\n",
    "          zip(group_names,group_counts,group_percentages)]\n",
    "labels = np.asarray(labels).reshape(2,2)\n",
    "sns.set(rc={'figure.figsize':(8,4)})\n",
    "sns.heatmap(cf_matrix, annot=labels, fmt='', cmap='Reds')"
   ]
  },
  {
   "cell_type": "markdown",
   "id": "0ab13d0e",
   "metadata": {},
   "source": [
    "## 3.7 Ensemble (Logistic + Random Forest)"
   ]
  },
  {
   "cell_type": "code",
   "execution_count": 40,
   "id": "40a0304c",
   "metadata": {},
   "outputs": [],
   "source": [
    "estimators = [\n",
    "     ('lr', clf_lr),\n",
    "      #LogisticRegression(penalty=clf_lr.best_params_['penalty'], C=clf_lr.best_params_['C'],     \n",
    "                      #max_iter =clf_lr.best_params_['max_iter'], solver =clf_lr.best_params_['solver'])),\n",
    "    ('rf', clf_rf)\n",
    "     #RandomForestClassifier(n_estimators = clf_rf.best_params_['n_estimators'], \n",
    "                                #max_features = clf_rf.best_params_['max_features'],\n",
    "                               # criterion = clf_rf.best_params_['criterion'],\n",
    "                                #max_depth = clf_rf.best_params_['max_depth']))\n",
    " ]\n",
    "\n",
    "clf_en = StackingClassifier( estimators=estimators)"
   ]
  },
  {
   "cell_type": "code",
   "execution_count": 41,
   "id": "ab84cf5b",
   "metadata": {},
   "outputs": [
    {
     "name": "stdout",
     "output_type": "stream",
     "text": [
      "accuracy:  0.6393951143854207\n",
      "              precision    recall  f1-score   support\n",
      "\n",
      "         0.0       0.63      0.77      0.70      1375\n",
      "         1.0       0.65      0.49      0.56      1204\n",
      "\n",
      "    accuracy                           0.64      2579\n",
      "   macro avg       0.64      0.63      0.63      2579\n",
      "weighted avg       0.64      0.64      0.63      2579\n",
      "\n"
     ]
    }
   ],
   "source": [
    "clf_en.fit(oversample_X_train, oversample_y_train)\n",
    "# predict \n",
    "y_pred_en = clf_en.predict(X_test)\n",
    "print(\"accuracy: \", metrics.accuracy_score(y_test, y_pred_en))\n",
    "print(metrics.classification_report(y_true=y_test, y_pred=y_pred_en))"
   ]
  },
  {
   "cell_type": "markdown",
   "id": "fce8a3c4",
   "metadata": {},
   "source": [
    "## 4. Feature Importance (optimal model: Random Forest)"
   ]
  },
  {
   "cell_type": "code",
   "execution_count": 42,
   "id": "66aa3c07",
   "metadata": {},
   "outputs": [],
   "source": [
    "#feature_names = [i for i in range(df_x.shape[1])]\n",
    "feature_names = df_x.columns\n",
    "clr_rf.fit(X_train, y_train)\n",
    "importances = clr_rf.feature_importances_\n",
    "std = np.std([tree.feature_importances_ for tree in clr_rf.estimators_], axis=0)"
   ]
  },
  {
   "cell_type": "code",
   "execution_count": 43,
   "id": "503e0def",
   "metadata": {},
   "outputs": [
    {
     "data": {
      "image/png": "[encoded data removed]",
      "text/plain": [
       "<Figure size 576x432 with 1 Axes>"
      ]
     },
     "metadata": {},
     "output_type": "display_data"
    }
   ],
   "source": [
    "sns.set(rc={'figure.figsize':(8,6)})\n",
    "forest_importances = pd.Series(importances, index=feature_names)\n",
    "fig, ax = plt.subplots()\n",
    "forest_importances.plot.bar(yerr=std, ax=ax)\n",
    "ax.set_title(\"Feature importances\")\n",
    "ax.set_ylabel(\"Mean decrease in impurity\")\n",
    "fig.tight_layout()"
   ]
  },
  {
   "cell_type": "markdown",
   "id": "eae5988d",
   "metadata": {},
   "source": [
    "## 5. Save models for deployment"
   ]
  },
  {
   "cell_type": "code",
   "execution_count": 44,
   "id": "b88d4f26",
   "metadata": {},
   "outputs": [],
   "source": [
    "classifiers = {\n",
    "    \"Naive Bayes\": clf_nb,\n",
    "    \"LogisticRegression\": clf_lr,\n",
    "    \"KNN\": clf_knn,\n",
    "    \"Support Vector Classifier\": clf_svc,\n",
    "    \"DecisionTreeClassifier\": clf_dt,\n",
    "    \"Random Forest\": clf_rf,\n",
    "    \"Ensemble\": clf_en,\n",
    "    #,\"XGBoost\": GradientBoostingClassifier()\n",
    "    }\n",
    "\n",
    "accuracy = []\n",
    "cf_matrix = dict.fromkeys(classifiers.keys())\n",
    "\n",
    "for key, classifier in classifiers.items():\n",
    "    model = classifier.fit(X_train, y_train.values.ravel())\n",
    "    y_pred = model.predict(X_test)\n",
    "\n",
    "    cf_matrix[key] = confusion_matrix(y_test, y_pred)\n",
    "    accuracy.append(\"{:.2f}\".format(accuracy_score(y_test, y_pred)))\n",
    "\n",
    "    # save the model to lcoal storage\n",
    "    filename = key+\"2.sav\"\n",
    "    pickle.dump(classifier, open(filename, \"wb\"))"
   ]
  }
 ],
 "metadata": {
  "kernelspec": {
   "display_name": "Python 3 (ipykernel)",
   "language": "python",
   "name": "python3"
  },
  "language_info": {
   "codemirror_mode": {
    "name": "ipython",
    "version": 3
   },
   "file_extension": ".py",
   "mimetype": "text/x-python",
   "name": "python",
   "nbconvert_exporter": "python",
   "pygments_lexer": "ipython3",
   "version": "3.9.0"
  }
 },
 "nbformat": 4,
 "nbformat_minor": 5
}
